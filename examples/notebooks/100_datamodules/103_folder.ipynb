version https://git-lfs.github.com/spec/v1
oid sha256:ad4ac1f5ba75e7008f087578d5a983da78680dca88260061fc0302a9043f436f
size 9383
